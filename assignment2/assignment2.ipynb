{
 "cells": [
  {
   "cell_type": "markdown",
   "metadata": {
    "collapsed": true,
    "pycharm": {
     "name": "#%% md\n"
    }
   },
   "source": [
    "# Fudan PRML 23Spring Assignment2\n"
   ]
  },
  {
   "cell_type": "markdown",
   "metadata": {},
   "source": [
    "<font color='red'>*Your Name, Student ID and Date: [Name], [Student ID], [Date]*</font>\n",
    "\n",
    "*Complete and hand in this completed worksheet (including its outputs and any supporting code outside of the worksheet) with your assignment submission.*\n"
   ]
  },
  {
   "cell_type": "markdown",
   "metadata": {},
   "source": [
    "<font color='red' size = 3> *DDL: 2023.06.11 23:59* </font>"
   ]
  },
  {
   "cell_type": "markdown",
   "metadata": {},
   "source": [
    "## 1. FDUNN: your toy torch-like deep learning library (60 points)"
   ]
  },
  {
   "cell_type": "markdown",
   "metadata": {},
   "source": [
    "In this assignment, you will fist implement your own torch-like deep learning library with `numpy`, named `fdunn`.\n",
    "\n",
    "PyTorch: [Link](https://pytorch.org/)"
   ]
  },
  {
   "cell_type": "code",
   "execution_count": 23,
   "metadata": {
    "pycharm": {
     "name": "#%%\n"
    }
   },
   "outputs": [
    {
     "name": "stdout",
     "output_type": "stream",
     "text": [
      "The autoreload extension is already loaded. To reload it, use:\n",
      "  %reload_ext autoreload\n"
     ]
    }
   ],
   "source": [
    "# setup code, auto reload your .py file\n",
    "%load_ext autoreload\n",
    "%autoreload 2"
   ]
  },
  {
   "cell_type": "code",
   "execution_count": 24,
   "metadata": {
    "pycharm": {
     "name": "#%%\n"
    }
   },
   "outputs": [],
   "source": [
    "# numpy\n",
    "import numpy as np\n",
    "np.random.seed(233)"
   ]
  },
  {
   "cell_type": "code",
   "execution_count": 25,
   "metadata": {
    "pycharm": {
     "name": "#%%\n"
    }
   },
   "outputs": [],
   "source": [
    "# matplotlib\n",
    "%matplotlib inline\n",
    "from matplotlib import pyplot as plt"
   ]
  },
  {
   "cell_type": "markdown",
   "metadata": {},
   "source": [
    "You have to impletement several standard deep neural modelwork modules in the `./fdunn` folder:\n",
    "1.   linear/conv/pooling\n",
    "2.   activation\n",
    "3.   loss\n",
    "4.   optim\n",
    "5.   trainer\n",
    "\n",
    "We have written most of the code for you already, and you only need to fill in the most essential parts. We have also prepared several test cases for you to check if your code works correctly.\n",
    "\n",
    "Furthermore, you can also test the accuracy of your code by comparing its output with the output of sk-learn."
   ]
  },
  {
   "cell_type": "code",
   "execution_count": 26,
   "metadata": {
    "pycharm": {
     "name": "#%%\n"
    }
   },
   "outputs": [],
   "source": [
    "import sys\n",
    "sys.path.append(r'C:\\Users\\Life_Dancer\\Desktop\\PRML-Spring23-FDU\\assignment2\\fdunn')\n",
    "\n",
    "from fdunn import *"
   ]
  },
  {
   "cell_type": "code",
   "execution_count": 27,
   "metadata": {},
   "outputs": [],
   "source": [
    "import os\n",
    "os.environ[\"KMP_DUPLICATE_LIB_OK\"]=\"TRUE\""
   ]
  },
  {
   "cell_type": "markdown",
   "metadata": {},
   "source": [
    "### 1. Get dataset MNIST"
   ]
  },
  {
   "cell_type": "code",
   "execution_count": 28,
   "metadata": {},
   "outputs": [],
   "source": [
    "from fdunn.data.data_loader import get_dataset\n",
    "\n",
    "dataset = 'MNIST'\n",
    "trainloader, testloader = get_dataset(dataset)"
   ]
  },
  {
   "cell_type": "markdown",
   "metadata": {},
   "source": [
    "### 2. FNN"
   ]
  },
  {
   "cell_type": "code",
   "execution_count": 7,
   "metadata": {},
   "outputs": [],
   "source": [
    "from fdunn.modules.linear import Linear\n",
    "from fdunn.modules.activation import Sigmoid\n",
    "from fdunn.modules.loss import BCELoss, CrossEntropyLoss\n",
    "from fdunn.optim.sgd import SGD\n",
    "\n",
    "class FNN:\n",
    "    def __init__(self, in_features, hidden_sizes, num_classes):\n",
    "        self.linear1 = Linear(in_features, hidden_sizes[0])\n",
    "        self.sigmoid = Sigmoid()\n",
    "        self.hidden_layers = []\n",
    "        for i in range(len(hidden_sizes) - 1):\n",
    "            layer = Linear(hidden_sizes[i], hidden_sizes[i+1])\n",
    "            self.hidden_layers.append(layer)\n",
    "        self.linear_final = Linear(hidden_sizes[-1], num_classes)\n",
    "        self.layers = [self.linear1, self.sigmoid] + self.hidden_layers + [self.linear_final]\n",
    "    \n",
    "    def forward(self, input):\n",
    "        output = self.linear1.forward(input)\n",
    "        output = self.sigmoid.forward(output)\n",
    "        for layer in self.hidden_layers:\n",
    "            output = layer.forward(output)\n",
    "            output = self.sigmoid.forward(output)\n",
    "        output = self.linear_final.forward(output)\n",
    "        return output\n",
    "    \n",
    "    def backward(self, output_grad):\n",
    "        output_grad = self.linear_final.backward(output_grad)\n",
    "        for layer in reversed(self.hidden_layers):\n",
    "            output_grad = self.sigmoid.backward(output_grad)\n",
    "            output_grad = layer.backward(output_grad)\n",
    "        output_grad = self.sigmoid.backward(output_grad)\n",
    "        output_grad = self.linear1.backward(output_grad)\n",
    "        return output_grad"
   ]
  },
  {
   "cell_type": "code",
   "execution_count": 8,
   "metadata": {},
   "outputs": [
    {
     "name": "stdout",
     "output_type": "stream",
     "text": [
      "init: W.shape=(64, 784), b.shape=(64,)\n",
      "init: W.shape=(64, 64), b.shape=(64,)\n",
      "init: W.shape=(10, 64), b.shape=(10,)\n"
     ]
    }
   ],
   "source": [
    "in_features = 784\n",
    "hidden_sizes = [64, 64] \n",
    "num_classes = 10\n",
    "\n",
    "model = FNN(in_features, hidden_sizes, num_classes)\n",
    "criterion = BCELoss(model)\n",
    "\n",
    "lr = 1e-7\n",
    "optimizer = SGD(model, lr)"
   ]
  },
  {
   "cell_type": "code",
   "execution_count": 9,
   "metadata": {},
   "outputs": [],
   "source": [
    "import torch.nn.functional as F\n",
    "\n",
    "def epoch(mode, dataloader, model, optimizer, criterion):\n",
    "    loss_avg, acc_avg, num_exp = 0, 0, 0\n",
    "\n",
    "    for i_batch, datum in enumerate(dataloader):\n",
    "        img = datum[0]\n",
    "        lab = datum[1]\n",
    "\n",
    "        n_b = lab.shape[0]\n",
    "        truth = lab\n",
    "\n",
    "        output = model.forward(img)\n",
    "\n",
    "        lab = F.one_hot(lab, 10)\n",
    "        lab = lab.numpy()\n",
    "\n",
    "        loss = criterion.forward(output, lab)\n",
    "        predicted = np.argmax(output, 1)\n",
    "\n",
    "        correct = (predicted == truth.numpy()).sum()\n",
    "\n",
    "        loss_avg += loss.item()*n_b\n",
    "        acc_avg += correct.item()\n",
    "        num_exp += n_b\n",
    "\n",
    "        if mode == 'train':\n",
    "            criterion.backward()\n",
    "            optimizer.step()\n",
    "            \n",
    "        # print(f\"Batch: {i_batch}, Loss: {loss.item()}, Accuracy: {correct.item() / n_b}\")\n",
    "\n",
    "    loss_avg /= num_exp\n",
    "    acc_avg /= num_exp\n",
    "\n",
    "    return loss_avg, acc_avg"
   ]
  },
  {
   "cell_type": "code",
   "execution_count": 10,
   "metadata": {},
   "outputs": [
    {
     "name": "stdout",
     "output_type": "stream",
     "text": [
      "Epoch: 0\tReal Acc: 0.11236666666666667\tTest Acc: 0.1135\n",
      "Epoch: 1\tReal Acc: 0.11236666666666667\tTest Acc: 0.1135\n",
      "Epoch: 2\tReal Acc: 0.1124\tTest Acc: 0.1136\n",
      "Epoch: 3\tReal Acc: 0.11273333333333334\tTest Acc: 0.114\n",
      "Epoch: 4\tReal Acc: 0.11518333333333333\tTest Acc: 0.1156\n",
      "Epoch: 5\tReal Acc: 0.11788333333333334\tTest Acc: 0.1172\n",
      "Epoch: 6\tReal Acc: 0.1195\tTest Acc: 0.1182\n",
      "Epoch: 7\tReal Acc: 0.12048333333333333\tTest Acc: 0.1186\n",
      "Epoch: 8\tReal Acc: 0.12041666666666667\tTest Acc: 0.1197\n",
      "Epoch: 9\tReal Acc: 0.12138333333333333\tTest Acc: 0.121\n",
      "Epoch: 10\tReal Acc: 0.12263333333333333\tTest Acc: 0.121\n",
      "Epoch: 11\tReal Acc: 0.12206666666666667\tTest Acc: 0.121\n",
      "Epoch: 12\tReal Acc: 0.1226\tTest Acc: 0.1213\n",
      "Epoch: 13\tReal Acc: 0.12226666666666666\tTest Acc: 0.1215\n",
      "Epoch: 14\tReal Acc: 0.12243333333333334\tTest Acc: 0.1214\n",
      "Epoch: 15\tReal Acc: 0.12275\tTest Acc: 0.1213\n",
      "Epoch: 16\tReal Acc: 0.12278333333333333\tTest Acc: 0.1213\n",
      "Epoch: 17\tReal Acc: 0.1228\tTest Acc: 0.1213\n",
      "Epoch: 18\tReal Acc: 0.12276666666666666\tTest Acc: 0.1213\n",
      "Epoch: 19\tReal Acc: 0.12278333333333333\tTest Acc: 0.1213\n"
     ]
    }
   ],
   "source": [
    "train_epochs = 20\n",
    "lr_schedule = [10, 15]\n",
    "decay = True\n",
    "\n",
    "for e in range(train_epochs):\n",
    "\n",
    "    train_loss, train_acc = epoch(\"train\", dataloader=trainloader, model=model, optimizer=optimizer, criterion=criterion)\n",
    "\n",
    "    test_loss, test_acc = epoch(\"test\", dataloader=testloader, model=model, optimizer=None, criterion=criterion)\n",
    "\n",
    "    print(\"Epoch: {}\\tReal Acc: {}\\tTest Acc: {}\".format(e, train_acc, test_acc))\n",
    "\n",
    "    if e in lr_schedule and decay:\n",
    "        lr *= 0.1\n",
    "        optimizer = SGD(model, lr=lr)\n"
   ]
  },
  {
   "cell_type": "markdown",
   "metadata": {},
   "source": [
    "### CNN"
   ]
  },
  {
   "cell_type": "code",
   "execution_count": 43,
   "metadata": {},
   "outputs": [],
   "source": [
    "from fdunn.modules.linear import Linear\n",
    "from fdunn.modules.activation import Sigmoid\n",
    "from fdunn.modules.loss import BCELoss, CrossEntropyLoss\n",
    "from fdunn.optim.sgd import SGD\n",
    "from fdunn.modules.conv import Conv2d\n",
    "from fdunn.modules.pooling import MaxPool2d\n",
    "\n",
    "class CNN:\n",
    "    def __init__(self, in_channels, out_channels, kernel_size, stride_size, hidden_sizes, num_classes):\n",
    "        self.conv = Conv2d(in_channels, out_channels, kernel_size)\n",
    "        self.sigmoid = Sigmoid()\n",
    "        self.pool = MaxPool2d(kernel_size, stride_size)\n",
    "        self.hidden_layers = []\n",
    "        for i in range(1, len(hidden_sizes)):\n",
    "            layer = Linear(hidden_sizes[i-1], hidden_sizes[i])\n",
    "            self.hidden_layers.append(layer)\n",
    "        self.linear_final = Linear(hidden_sizes[-1], num_classes)\n",
    "        self.layers = [self.conv, self.sigmoid] + self.hidden_layers + [self.linear_final]\n",
    "    \n",
    "    def forward(self, input):\n",
    "        output = self.conv.forward(input)\n",
    "        output = self.sigmoid.forward(output)\n",
    "        output = self.pool.forward(output)\n",
    "        # print('output.shape: ', output.shape)  # 将特征图展平为向量\n",
    "        for layer in self.hidden_layers:\n",
    "            output = layer.forward(output)\n",
    "            output = self.sigmoid.forward(output)\n",
    "        output = self.linear_final.forward(output)\n",
    "        return output\n",
    "    \n",
    "    def backward(self, output_grad):\n",
    "        output_grad = self.linear_final.backward(output_grad)\n",
    "        for layer in reversed(self.hidden_layers):\n",
    "            output_grad = layer.backward(output_grad)\n",
    "            output_grad = self.sigmoid.backward(output_grad)\n",
    "        output_grad = self.pool.backward(output_grad)\n",
    "        output_grad = self.sigmoid.backward(output_grad)\n",
    "        output_grad = self.conv.backward(output_grad)\n",
    "        return output_grad"
   ]
  },
  {
   "cell_type": "code",
   "execution_count": 44,
   "metadata": {},
   "outputs": [
    {
     "name": "stdout",
     "output_type": "stream",
     "text": [
      "init: W.shape=(10, 800), b.shape=(10,)\n"
     ]
    }
   ],
   "source": [
    "in_channels = 1\n",
    "out_channels = 8\n",
    "kernel_size = 5\n",
    "stride_size = 2\n",
    "hidden_sizes = [800]\n",
    "num_classes = 10\n",
    "\n",
    "model = CNN(in_channels, out_channels, kernel_size, stride_size, hidden_sizes, num_classes)\n",
    "criterion = BCELoss(model)\n",
    "\n",
    "lr = 1e-6\n",
    "optimizer = SGD(model, lr)"
   ]
  },
  {
   "cell_type": "code",
   "execution_count": 45,
   "metadata": {},
   "outputs": [],
   "source": [
    "import torch.nn.functional as F\n",
    "\n",
    "def epoch(mode, dataloader, model, optimizer, criterion):\n",
    "    loss_avg, acc_avg, num_exp = 0, 0, 0\n",
    "\n",
    "    for i_batch, datum in enumerate(dataloader):\n",
    "        img = datum[0]\n",
    "        lab = datum[1]\n",
    "\n",
    "        n_b = lab.shape[0]\n",
    "        truth = lab\n",
    "\n",
    "        output = model.forward(img)\n",
    "\n",
    "        lab = F.one_hot(lab, 10)\n",
    "        lab = lab.numpy()\n",
    "\n",
    "        loss = criterion.forward(output, lab)\n",
    "        predicted = np.argmax(output, 1)\n",
    "\n",
    "        correct = (predicted == truth.numpy()).sum()\n",
    "\n",
    "        loss_avg += loss.item()*n_b\n",
    "        acc_avg += correct.item()\n",
    "        num_exp += n_b\n",
    "\n",
    "        if mode == 'train':\n",
    "            criterion.backward()\n",
    "            optimizer.step()\n",
    "            \n",
    "        # print(f\"Batch: {i_batch}, Loss: {loss.item()}, Accuracy: {correct.item() / n_b}\")\n",
    "\n",
    "    loss_avg /= num_exp\n",
    "    acc_avg /= num_exp\n",
    "\n",
    "    return loss_avg, acc_avg"
   ]
  },
  {
   "cell_type": "code",
   "execution_count": 46,
   "metadata": {},
   "outputs": [
    {
     "name": "stdout",
     "output_type": "stream",
     "text": [
      "Epoch: 0\tTrain Acc: 0.09771666666666666\n",
      "Epoch: 1\tTrain Acc: 0.1009\n",
      "Epoch: 2\tTrain Acc: 0.10346666666666667\n",
      "Epoch: 3\tTrain Acc: 0.10463333333333333\n",
      "Epoch: 4\tTrain Acc: 0.10518333333333334\n",
      "Test Acc: 0.1025\n"
     ]
    }
   ],
   "source": [
    "train_epochs = 5\n",
    "lr_schedule = [3]\n",
    "decay = True\n",
    "\n",
    "for e in range(train_epochs):\n",
    "\n",
    "    train_loss, train_acc = epoch(\"train\", dataloader=trainloader, model=model, optimizer=optimizer, criterion=criterion)\n",
    "\n",
    "    print(\"Epoch: {}\\tTrain Acc: {}\".format(e, train_acc))\n",
    "\n",
    "    if e == train_epochs-1:\n",
    "        test_loss, test_acc = epoch(\"test\", dataloader=testloader, model=model, optimizer=None, criterion=criterion)\n",
    "        print(\"Test Acc: {}\".format(test_acc))\n",
    "\n",
    "    if e in lr_schedule and decay:\n",
    "        lr *= 0.1\n",
    "        optimizer = SGD(model, lr=lr)\n"
   ]
  }
 ],
 "metadata": {
  "kernelspec": {
   "display_name": "Python 3",
   "language": "python",
   "name": "python3"
  },
  "language_info": {
   "codemirror_mode": {
    "name": "ipython",
    "version": 3
   },
   "file_extension": ".py",
   "mimetype": "text/x-python",
   "name": "python",
   "nbconvert_exporter": "python",
   "pygments_lexer": "ipython3",
   "version": "3.8.13"
  },
  "vscode": {
   "interpreter": {
    "hash": "44bc79bdedc951859a4620ce4f5a740abfa1bf27d20da6af0e4010c444744bef"
   }
  }
 },
 "nbformat": 4,
 "nbformat_minor": 1
}
